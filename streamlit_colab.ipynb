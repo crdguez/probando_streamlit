{
  "nbformat": 4,
  "nbformat_minor": 0,
  "metadata": {
    "colab": {
      "name": "streamlit_colab",
      "provenance": [],
      "collapsed_sections": [],
      "toc_visible": true,
      "include_colab_link": true
    },
    "kernelspec": {
      "display_name": "Python 3",
      "name": "python3"
    }
  },
  "cells": [
    {
      "cell_type": "markdown",
      "metadata": {
        "id": "view-in-github",
        "colab_type": "text"
      },
      "source": [
        "<a href=\"https://colab.research.google.com/github/crdguez/probando_streamlit/blob/main/streamlit_colab.ipynb\" target=\"_parent\"><img src=\"https://colab.research.google.com/assets/colab-badge.svg\" alt=\"Open In Colab\"/></a>"
      ]
    },
    {
      "cell_type": "markdown",
      "metadata": {
        "id": "YueD6bxr_Ndx"
      },
      "source": [
        "Run all of the following to start the Streamlit demo!\n",
        "\n",
        "Modify with the [docs](https://docs.streamlit.io/) to prototype your own ML apps."
      ]
    },
    {
      "cell_type": "code",
      "metadata": {
        "id": "iQCQWfj2v_kG",
        "outputId": "c73ec531-c656-44ea-8fb2-48a2b535e703",
        "colab": {
          "base_uri": "https://localhost:8080/",
          "height": 676
        }
      },
      "source": [
        "!pip install ipykernel==4.10"
      ],
      "execution_count": 2,
      "outputs": [
        {
          "output_type": "stream",
          "text": [
            "Collecting ipykernel==4.10\n",
            "\u001b[?25l  Downloading https://files.pythonhosted.org/packages/22/5e/69b0ae84e0cd7c8d4467e0a7b390c560d8c7642493329b15461b41e20fcc/ipykernel-4.10.0-py3-none-any.whl (109kB)\n",
            "\r\u001b[K     |███                             | 10kB 13.0MB/s eta 0:00:01\r\u001b[K     |██████                          | 20kB 18.2MB/s eta 0:00:01\r\u001b[K     |█████████                       | 30kB 9.0MB/s eta 0:00:01\r\u001b[K     |████████████                    | 40kB 7.3MB/s eta 0:00:01\r\u001b[K     |███████████████                 | 51kB 4.3MB/s eta 0:00:01\r\u001b[K     |█████████████████▉              | 61kB 4.4MB/s eta 0:00:01\r\u001b[K     |████████████████████▉           | 71kB 4.7MB/s eta 0:00:01\r\u001b[K     |███████████████████████▉        | 81kB 4.8MB/s eta 0:00:01\r\u001b[K     |██████████████████████████▉     | 92kB 5.1MB/s eta 0:00:01\r\u001b[K     |█████████████████████████████▉  | 102kB 5.3MB/s eta 0:00:01\r\u001b[K     |████████████████████████████████| 112kB 5.3MB/s \n",
            "\u001b[?25hRequirement already satisfied: jupyter-client in /usr/local/lib/python3.6/dist-packages (from ipykernel==4.10) (5.3.5)\n",
            "Requirement already satisfied: tornado>=4.0 in /usr/local/lib/python3.6/dist-packages (from ipykernel==4.10) (5.1.1)\n",
            "Requirement already satisfied: ipython>=4.0.0 in /usr/local/lib/python3.6/dist-packages (from ipykernel==4.10) (5.5.0)\n",
            "Requirement already satisfied: traitlets>=4.1.0 in /usr/local/lib/python3.6/dist-packages (from ipykernel==4.10) (4.3.3)\n",
            "Requirement already satisfied: pyzmq>=13 in /usr/local/lib/python3.6/dist-packages (from jupyter-client->ipykernel==4.10) (21.0.1)\n",
            "Requirement already satisfied: python-dateutil>=2.1 in /usr/local/lib/python3.6/dist-packages (from jupyter-client->ipykernel==4.10) (2.8.1)\n",
            "Requirement already satisfied: jupyter-core>=4.6.0 in /usr/local/lib/python3.6/dist-packages (from jupyter-client->ipykernel==4.10) (4.7.0)\n",
            "Requirement already satisfied: pickleshare in /usr/local/lib/python3.6/dist-packages (from ipython>=4.0.0->ipykernel==4.10) (0.7.5)\n",
            "Requirement already satisfied: simplegeneric>0.8 in /usr/local/lib/python3.6/dist-packages (from ipython>=4.0.0->ipykernel==4.10) (0.8.1)\n",
            "Requirement already satisfied: pexpect; sys_platform != \"win32\" in /usr/local/lib/python3.6/dist-packages (from ipython>=4.0.0->ipykernel==4.10) (4.8.0)\n",
            "Requirement already satisfied: decorator in /usr/local/lib/python3.6/dist-packages (from ipython>=4.0.0->ipykernel==4.10) (4.4.2)\n",
            "Requirement already satisfied: pygments in /usr/local/lib/python3.6/dist-packages (from ipython>=4.0.0->ipykernel==4.10) (2.6.1)\n",
            "Requirement already satisfied: setuptools>=18.5 in /usr/local/lib/python3.6/dist-packages (from ipython>=4.0.0->ipykernel==4.10) (51.3.3)\n",
            "Requirement already satisfied: prompt-toolkit<2.0.0,>=1.0.4 in /usr/local/lib/python3.6/dist-packages (from ipython>=4.0.0->ipykernel==4.10) (1.0.18)\n",
            "Requirement already satisfied: six in /usr/local/lib/python3.6/dist-packages (from traitlets>=4.1.0->ipykernel==4.10) (1.15.0)\n",
            "Requirement already satisfied: ipython-genutils in /usr/local/lib/python3.6/dist-packages (from traitlets>=4.1.0->ipykernel==4.10) (0.2.0)\n",
            "Requirement already satisfied: ptyprocess>=0.5 in /usr/local/lib/python3.6/dist-packages (from pexpect; sys_platform != \"win32\"->ipython>=4.0.0->ipykernel==4.10) (0.7.0)\n",
            "Requirement already satisfied: wcwidth in /usr/local/lib/python3.6/dist-packages (from prompt-toolkit<2.0.0,>=1.0.4->ipython>=4.0.0->ipykernel==4.10) (0.2.5)\n",
            "\u001b[31mERROR: pydeck 0.5.0 has requirement ipykernel>=5.1.2; python_version >= \"3.4\", but you'll have ipykernel 4.10.0 which is incompatible.\u001b[0m\n",
            "Installing collected packages: ipykernel\n",
            "  Found existing installation: ipykernel 5.4.3\n",
            "    Uninstalling ipykernel-5.4.3:\n",
            "      Successfully uninstalled ipykernel-5.4.3\n",
            "Successfully installed ipykernel-4.10.0\n"
          ],
          "name": "stdout"
        },
        {
          "output_type": "display_data",
          "data": {
            "application/vnd.colab-display-data+json": {
              "pip_warning": {
                "packages": [
                  "ipykernel"
                ]
              }
            }
          },
          "metadata": {
            "tags": []
          }
        }
      ]
    },
    {
      "cell_type": "code",
      "metadata": {
        "id": "cPxfsHGb5_xh"
      },
      "source": [
        "!pip install streamlit -q"
      ],
      "execution_count": 3,
      "outputs": []
    },
    {
      "cell_type": "code",
      "metadata": {
        "id": "GC3gSHfd6J9y",
        "colab": {
          "base_uri": "https://localhost:8080/"
        },
        "outputId": "8a0d50af-17fd-4881-b435-c138438f5adc"
      },
      "source": [
        "!wget https://bin.equinox.io/c/4VmDzA7iaHb/ngrok-stable-linux-amd64.zip\n",
        "!unzip -qq ngrok-stable-linux-amd64.zip"
      ],
      "execution_count": 4,
      "outputs": [
        {
          "output_type": "stream",
          "text": [
            "--2021-01-28 11:29:08--  https://bin.equinox.io/c/4VmDzA7iaHb/ngrok-stable-linux-amd64.zip\n",
            "Resolving bin.equinox.io (bin.equinox.io)... 3.226.231.47, 3.213.223.141, 34.198.117.197, ...\n",
            "Connecting to bin.equinox.io (bin.equinox.io)|3.226.231.47|:443... connected.\n",
            "HTTP request sent, awaiting response... 200 OK\n",
            "Length: 13773305 (13M) [application/octet-stream]\n",
            "Saving to: ‘ngrok-stable-linux-amd64.zip’\n",
            "\n",
            "ngrok-stable-linux- 100%[===================>]  13.13M  6.56MB/s    in 2.0s    \n",
            "\n",
            "2021-01-28 11:29:11 (6.56 MB/s) - ‘ngrok-stable-linux-amd64.zip’ saved [13773305/13773305]\n",
            "\n"
          ],
          "name": "stdout"
        }
      ]
    },
    {
      "cell_type": "markdown",
      "metadata": {
        "id": "oE8YZYsk-UGs"
      },
      "source": [
        "**Use the output of this command as the link to your Streamlit app.**"
      ]
    },
    {
      "cell_type": "code",
      "metadata": {
        "id": "XMOoOLFT88ku",
        "colab": {
          "base_uri": "https://localhost:8080/"
        },
        "outputId": "37a5945b-88d7-47b9-9929-9e2a36b7643a"
      },
      "source": [
        "get_ipython().system_raw('./ngrok http 8501 &')\n",
        "! curl -s http://localhost:4040/api/tunnels | python3 -c \\\n",
        "    \"import sys, json; print(json.load(sys.stdin)['tunnels'][0]['public_url'])\""
      ],
      "execution_count": 6,
      "outputs": [
        {
          "output_type": "stream",
          "text": [
            "https://995dbcb9a438.ngrok.io\n"
          ],
          "name": "stdout"
        }
      ]
    },
    {
      "cell_type": "markdown",
      "metadata": {
        "id": "SdNVtkKn-l-z"
      },
      "source": [
        "**Ignore the output of this**"
      ]
    },
    {
      "cell_type": "code",
      "metadata": {
        "id": "rUHzaig59IQ_"
      },
      "source": [
        "!streamlit hello"
      ],
      "execution_count": null,
      "outputs": []
    }
  ]
}